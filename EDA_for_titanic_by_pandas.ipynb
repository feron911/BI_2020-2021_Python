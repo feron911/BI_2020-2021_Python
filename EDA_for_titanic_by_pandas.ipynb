{
 "cells": [
  {
   "cell_type": "code",
   "execution_count": 100,
   "metadata": {},
   "outputs": [],
   "source": [
    "import pandas as pd\n",
    "import numpy as np\n",
    "import seaborn as sns\n",
    "import matplotlib.pyplot as plt\n",
    "import statsmodels.graphics.mosaicplot as stm"
   ]
  },
  {
   "cell_type": "code",
   "execution_count": 9,
   "metadata": {},
   "outputs": [],
   "source": [
    "titanic = pd.read_csv(\"C:/Users/chera/Desktop/train.csv\")"
   ]
  },
  {
   "cell_type": "code",
   "execution_count": 18,
   "metadata": {},
   "outputs": [
    {
     "data": {
      "text/html": [
       "<div>\n",
       "<style scoped>\n",
       "    .dataframe tbody tr th:only-of-type {\n",
       "        vertical-align: middle;\n",
       "    }\n",
       "\n",
       "    .dataframe tbody tr th {\n",
       "        vertical-align: top;\n",
       "    }\n",
       "\n",
       "    .dataframe thead th {\n",
       "        text-align: right;\n",
       "    }\n",
       "</style>\n",
       "<table border=\"1\" class=\"dataframe\">\n",
       "  <thead>\n",
       "    <tr style=\"text-align: right;\">\n",
       "      <th></th>\n",
       "      <th>PassengerId</th>\n",
       "      <th>Survived</th>\n",
       "      <th>Pclass</th>\n",
       "      <th>Name</th>\n",
       "      <th>Sex</th>\n",
       "      <th>Age</th>\n",
       "      <th>SibSp</th>\n",
       "      <th>Parch</th>\n",
       "      <th>Ticket</th>\n",
       "      <th>Fare</th>\n",
       "      <th>Cabin</th>\n",
       "      <th>Embarked</th>\n",
       "    </tr>\n",
       "  </thead>\n",
       "  <tbody>\n",
       "    <tr>\n",
       "      <th>0</th>\n",
       "      <td>1</td>\n",
       "      <td>0</td>\n",
       "      <td>3</td>\n",
       "      <td>Braund, Mr. Owen Harris</td>\n",
       "      <td>male</td>\n",
       "      <td>22.0</td>\n",
       "      <td>1</td>\n",
       "      <td>0</td>\n",
       "      <td>A/5 21171</td>\n",
       "      <td>7.2500</td>\n",
       "      <td>NaN</td>\n",
       "      <td>S</td>\n",
       "    </tr>\n",
       "    <tr>\n",
       "      <th>1</th>\n",
       "      <td>2</td>\n",
       "      <td>1</td>\n",
       "      <td>1</td>\n",
       "      <td>Cumings, Mrs. John Bradley (Florence Briggs Th...</td>\n",
       "      <td>female</td>\n",
       "      <td>38.0</td>\n",
       "      <td>1</td>\n",
       "      <td>0</td>\n",
       "      <td>PC 17599</td>\n",
       "      <td>71.2833</td>\n",
       "      <td>C85</td>\n",
       "      <td>C</td>\n",
       "    </tr>\n",
       "    <tr>\n",
       "      <th>2</th>\n",
       "      <td>3</td>\n",
       "      <td>1</td>\n",
       "      <td>3</td>\n",
       "      <td>Heikkinen, Miss. Laina</td>\n",
       "      <td>female</td>\n",
       "      <td>26.0</td>\n",
       "      <td>0</td>\n",
       "      <td>0</td>\n",
       "      <td>STON/O2. 3101282</td>\n",
       "      <td>7.9250</td>\n",
       "      <td>NaN</td>\n",
       "      <td>S</td>\n",
       "    </tr>\n",
       "    <tr>\n",
       "      <th>3</th>\n",
       "      <td>4</td>\n",
       "      <td>1</td>\n",
       "      <td>1</td>\n",
       "      <td>Futrelle, Mrs. Jacques Heath (Lily May Peel)</td>\n",
       "      <td>female</td>\n",
       "      <td>35.0</td>\n",
       "      <td>1</td>\n",
       "      <td>0</td>\n",
       "      <td>113803</td>\n",
       "      <td>53.1000</td>\n",
       "      <td>C123</td>\n",
       "      <td>S</td>\n",
       "    </tr>\n",
       "    <tr>\n",
       "      <th>4</th>\n",
       "      <td>5</td>\n",
       "      <td>0</td>\n",
       "      <td>3</td>\n",
       "      <td>Allen, Mr. William Henry</td>\n",
       "      <td>male</td>\n",
       "      <td>35.0</td>\n",
       "      <td>0</td>\n",
       "      <td>0</td>\n",
       "      <td>373450</td>\n",
       "      <td>8.0500</td>\n",
       "      <td>NaN</td>\n",
       "      <td>S</td>\n",
       "    </tr>\n",
       "    <tr>\n",
       "      <th>5</th>\n",
       "      <td>6</td>\n",
       "      <td>0</td>\n",
       "      <td>3</td>\n",
       "      <td>Moran, Mr. James</td>\n",
       "      <td>male</td>\n",
       "      <td>NaN</td>\n",
       "      <td>0</td>\n",
       "      <td>0</td>\n",
       "      <td>330877</td>\n",
       "      <td>8.4583</td>\n",
       "      <td>NaN</td>\n",
       "      <td>Q</td>\n",
       "    </tr>\n",
       "    <tr>\n",
       "      <th>6</th>\n",
       "      <td>7</td>\n",
       "      <td>0</td>\n",
       "      <td>1</td>\n",
       "      <td>McCarthy, Mr. Timothy J</td>\n",
       "      <td>male</td>\n",
       "      <td>54.0</td>\n",
       "      <td>0</td>\n",
       "      <td>0</td>\n",
       "      <td>17463</td>\n",
       "      <td>51.8625</td>\n",
       "      <td>E46</td>\n",
       "      <td>S</td>\n",
       "    </tr>\n",
       "    <tr>\n",
       "      <th>7</th>\n",
       "      <td>8</td>\n",
       "      <td>0</td>\n",
       "      <td>3</td>\n",
       "      <td>Palsson, Master. Gosta Leonard</td>\n",
       "      <td>male</td>\n",
       "      <td>2.0</td>\n",
       "      <td>3</td>\n",
       "      <td>1</td>\n",
       "      <td>349909</td>\n",
       "      <td>21.0750</td>\n",
       "      <td>NaN</td>\n",
       "      <td>S</td>\n",
       "    </tr>\n",
       "    <tr>\n",
       "      <th>8</th>\n",
       "      <td>9</td>\n",
       "      <td>1</td>\n",
       "      <td>3</td>\n",
       "      <td>Johnson, Mrs. Oscar W (Elisabeth Vilhelmina Berg)</td>\n",
       "      <td>female</td>\n",
       "      <td>27.0</td>\n",
       "      <td>0</td>\n",
       "      <td>2</td>\n",
       "      <td>347742</td>\n",
       "      <td>11.1333</td>\n",
       "      <td>NaN</td>\n",
       "      <td>S</td>\n",
       "    </tr>\n",
       "    <tr>\n",
       "      <th>9</th>\n",
       "      <td>10</td>\n",
       "      <td>1</td>\n",
       "      <td>2</td>\n",
       "      <td>Nasser, Mrs. Nicholas (Adele Achem)</td>\n",
       "      <td>female</td>\n",
       "      <td>14.0</td>\n",
       "      <td>1</td>\n",
       "      <td>0</td>\n",
       "      <td>237736</td>\n",
       "      <td>30.0708</td>\n",
       "      <td>NaN</td>\n",
       "      <td>C</td>\n",
       "    </tr>\n",
       "  </tbody>\n",
       "</table>\n",
       "</div>"
      ],
      "text/plain": [
       "   PassengerId  Survived  Pclass  \\\n",
       "0            1         0       3   \n",
       "1            2         1       1   \n",
       "2            3         1       3   \n",
       "3            4         1       1   \n",
       "4            5         0       3   \n",
       "5            6         0       3   \n",
       "6            7         0       1   \n",
       "7            8         0       3   \n",
       "8            9         1       3   \n",
       "9           10         1       2   \n",
       "\n",
       "                                                Name     Sex   Age  SibSp  \\\n",
       "0                            Braund, Mr. Owen Harris    male  22.0      1   \n",
       "1  Cumings, Mrs. John Bradley (Florence Briggs Th...  female  38.0      1   \n",
       "2                             Heikkinen, Miss. Laina  female  26.0      0   \n",
       "3       Futrelle, Mrs. Jacques Heath (Lily May Peel)  female  35.0      1   \n",
       "4                           Allen, Mr. William Henry    male  35.0      0   \n",
       "5                                   Moran, Mr. James    male   NaN      0   \n",
       "6                            McCarthy, Mr. Timothy J    male  54.0      0   \n",
       "7                     Palsson, Master. Gosta Leonard    male   2.0      3   \n",
       "8  Johnson, Mrs. Oscar W (Elisabeth Vilhelmina Berg)  female  27.0      0   \n",
       "9                Nasser, Mrs. Nicholas (Adele Achem)  female  14.0      1   \n",
       "\n",
       "   Parch            Ticket     Fare Cabin Embarked  \n",
       "0      0         A/5 21171   7.2500   NaN        S  \n",
       "1      0          PC 17599  71.2833   C85        C  \n",
       "2      0  STON/O2. 3101282   7.9250   NaN        S  \n",
       "3      0            113803  53.1000  C123        S  \n",
       "4      0            373450   8.0500   NaN        S  \n",
       "5      0            330877   8.4583   NaN        Q  \n",
       "6      0             17463  51.8625   E46        S  \n",
       "7      1            349909  21.0750   NaN        S  \n",
       "8      2            347742  11.1333   NaN        S  \n",
       "9      0            237736  30.0708   NaN        C  "
      ]
     },
     "execution_count": 18,
     "metadata": {},
     "output_type": "execute_result"
    }
   ],
   "source": [
    "titanic.head(10) # шапка датафрейма с 10 первыми значениями и названия переменных. "
   ]
  },
  {
   "cell_type": "code",
   "execution_count": 33,
   "metadata": {},
   "outputs": [
    {
     "name": "stdout",
     "output_type": "stream",
     "text": [
      "<class 'pandas.core.frame.DataFrame'>\n",
      "RangeIndex: 891 entries, 0 to 890\n",
      "Data columns (total 12 columns):\n",
      " #   Column       Non-Null Count  Dtype  \n",
      "---  ------       --------------  -----  \n",
      " 0   PassengerId  891 non-null    int64  \n",
      " 1   Survived     891 non-null    int64  \n",
      " 2   Pclass       891 non-null    int64  \n",
      " 3   Name         891 non-null    object \n",
      " 4   Sex          891 non-null    object \n",
      " 5   Age          714 non-null    float64\n",
      " 6   SibSp        891 non-null    int64  \n",
      " 7   Parch        891 non-null    int64  \n",
      " 8   Ticket       891 non-null    object \n",
      " 9   Fare         891 non-null    float64\n",
      " 10  Cabin        204 non-null    object \n",
      " 11  Embarked     889 non-null    object \n",
      "dtypes: float64(2), int64(5), object(5)\n",
      "memory usage: 83.7+ KB\n"
     ]
    }
   ],
   "source": [
    "titanic.info() # общая информация о типах данных, названии переменных и т.д. Переменные Ticket, Name, PassengerId - не содержат полезной информации и при дальнейшем анализе могут быть исключены из датафрейма."
   ]
  },
  {
   "cell_type": "code",
   "execution_count": 16,
   "metadata": {},
   "outputs": [
    {
     "data": {
      "text/html": [
       "<div>\n",
       "<style scoped>\n",
       "    .dataframe tbody tr th:only-of-type {\n",
       "        vertical-align: middle;\n",
       "    }\n",
       "\n",
       "    .dataframe tbody tr th {\n",
       "        vertical-align: top;\n",
       "    }\n",
       "\n",
       "    .dataframe thead th {\n",
       "        text-align: right;\n",
       "    }\n",
       "</style>\n",
       "<table border=\"1\" class=\"dataframe\">\n",
       "  <thead>\n",
       "    <tr style=\"text-align: right;\">\n",
       "      <th></th>\n",
       "      <th>count</th>\n",
       "      <th>mean</th>\n",
       "      <th>std</th>\n",
       "      <th>min</th>\n",
       "      <th>25%</th>\n",
       "      <th>50%</th>\n",
       "      <th>75%</th>\n",
       "      <th>max</th>\n",
       "    </tr>\n",
       "  </thead>\n",
       "  <tbody>\n",
       "    <tr>\n",
       "      <th>PassengerId</th>\n",
       "      <td>891.0</td>\n",
       "      <td>446.000000</td>\n",
       "      <td>257.353842</td>\n",
       "      <td>1.00</td>\n",
       "      <td>223.5000</td>\n",
       "      <td>446.0000</td>\n",
       "      <td>668.5</td>\n",
       "      <td>891.0000</td>\n",
       "    </tr>\n",
       "    <tr>\n",
       "      <th>Survived</th>\n",
       "      <td>891.0</td>\n",
       "      <td>0.383838</td>\n",
       "      <td>0.486592</td>\n",
       "      <td>0.00</td>\n",
       "      <td>0.0000</td>\n",
       "      <td>0.0000</td>\n",
       "      <td>1.0</td>\n",
       "      <td>1.0000</td>\n",
       "    </tr>\n",
       "    <tr>\n",
       "      <th>Pclass</th>\n",
       "      <td>891.0</td>\n",
       "      <td>2.308642</td>\n",
       "      <td>0.836071</td>\n",
       "      <td>1.00</td>\n",
       "      <td>2.0000</td>\n",
       "      <td>3.0000</td>\n",
       "      <td>3.0</td>\n",
       "      <td>3.0000</td>\n",
       "    </tr>\n",
       "    <tr>\n",
       "      <th>Age</th>\n",
       "      <td>714.0</td>\n",
       "      <td>29.699118</td>\n",
       "      <td>14.526497</td>\n",
       "      <td>0.42</td>\n",
       "      <td>20.1250</td>\n",
       "      <td>28.0000</td>\n",
       "      <td>38.0</td>\n",
       "      <td>80.0000</td>\n",
       "    </tr>\n",
       "    <tr>\n",
       "      <th>SibSp</th>\n",
       "      <td>891.0</td>\n",
       "      <td>0.523008</td>\n",
       "      <td>1.102743</td>\n",
       "      <td>0.00</td>\n",
       "      <td>0.0000</td>\n",
       "      <td>0.0000</td>\n",
       "      <td>1.0</td>\n",
       "      <td>8.0000</td>\n",
       "    </tr>\n",
       "    <tr>\n",
       "      <th>Parch</th>\n",
       "      <td>891.0</td>\n",
       "      <td>0.381594</td>\n",
       "      <td>0.806057</td>\n",
       "      <td>0.00</td>\n",
       "      <td>0.0000</td>\n",
       "      <td>0.0000</td>\n",
       "      <td>0.0</td>\n",
       "      <td>6.0000</td>\n",
       "    </tr>\n",
       "    <tr>\n",
       "      <th>Fare</th>\n",
       "      <td>891.0</td>\n",
       "      <td>32.204208</td>\n",
       "      <td>49.693429</td>\n",
       "      <td>0.00</td>\n",
       "      <td>7.9104</td>\n",
       "      <td>14.4542</td>\n",
       "      <td>31.0</td>\n",
       "      <td>512.3292</td>\n",
       "    </tr>\n",
       "  </tbody>\n",
       "</table>\n",
       "</div>"
      ],
      "text/plain": [
       "             count        mean         std   min       25%       50%    75%  \\\n",
       "PassengerId  891.0  446.000000  257.353842  1.00  223.5000  446.0000  668.5   \n",
       "Survived     891.0    0.383838    0.486592  0.00    0.0000    0.0000    1.0   \n",
       "Pclass       891.0    2.308642    0.836071  1.00    2.0000    3.0000    3.0   \n",
       "Age          714.0   29.699118   14.526497  0.42   20.1250   28.0000   38.0   \n",
       "SibSp        891.0    0.523008    1.102743  0.00    0.0000    0.0000    1.0   \n",
       "Parch        891.0    0.381594    0.806057  0.00    0.0000    0.0000    0.0   \n",
       "Fare         891.0   32.204208   49.693429  0.00    7.9104   14.4542   31.0   \n",
       "\n",
       "                  max  \n",
       "PassengerId  891.0000  \n",
       "Survived       1.0000  \n",
       "Pclass         3.0000  \n",
       "Age           80.0000  \n",
       "SibSp          8.0000  \n",
       "Parch          6.0000  \n",
       "Fare         512.3292  "
      ]
     },
     "execution_count": 16,
     "metadata": {},
     "output_type": "execute_result"
    }
   ],
   "source": [
    "titanic.describe().T # оцениваем основные описательные характеристики; замечаем, что переменные: Pclass, SibSp, Parch, Survived - явно носят факторный характер (имеют несколько градаций)."
   ]
  },
  {
   "cell_type": "code",
   "execution_count": 23,
   "metadata": {},
   "outputs": [
    {
     "data": {
      "text/plain": [
       "male      577\n",
       "female    314\n",
       "Name: Sex, dtype: int64"
      ]
     },
     "execution_count": 23,
     "metadata": {},
     "output_type": "execute_result"
    }
   ],
   "source": [
    "# для факторных и текстовых переменных оцениваем распределение\n",
    "titanic[\"Sex\"].value_counts()\n",
    "# мужчин на борту было почти в два раза больше чем женщин"
   ]
  },
  {
   "cell_type": "code",
   "execution_count": 29,
   "metadata": {},
   "outputs": [
    {
     "data": {
      "text/plain": [
       "male      0.647587\n",
       "female    0.352413\n",
       "Name: Sex, dtype: float64"
      ]
     },
     "execution_count": 29,
     "metadata": {},
     "output_type": "execute_result"
    }
   ],
   "source": [
    "titanic[\"Sex\"].value_counts(normalize = True)"
   ]
  },
  {
   "cell_type": "code",
   "execution_count": 30,
   "metadata": {},
   "outputs": [
    {
     "data": {
      "text/plain": [
       "0    549\n",
       "1    342\n",
       "Name: Survived, dtype: int64"
      ]
     },
     "execution_count": 30,
     "metadata": {},
     "output_type": "execute_result"
    }
   ],
   "source": [
    "titanic[\"Survived\"].value_counts()"
   ]
  },
  {
   "cell_type": "code",
   "execution_count": 31,
   "metadata": {},
   "outputs": [
    {
     "data": {
      "text/plain": [
       "0    0.616162\n",
       "1    0.383838\n",
       "Name: Survived, dtype: float64"
      ]
     },
     "execution_count": 31,
     "metadata": {},
     "output_type": "execute_result"
    }
   ],
   "source": [
    "titanic[\"Survived\"].value_counts(normalize = True)\n",
    "# большая часть пассажиров корабля погибло"
   ]
  },
  {
   "cell_type": "code",
   "execution_count": 25,
   "metadata": {},
   "outputs": [
    {
     "data": {
      "text/plain": [
       "0    678\n",
       "1    118\n",
       "2     80\n",
       "5      5\n",
       "3      5\n",
       "4      4\n",
       "6      1\n",
       "Name: Parch, dtype: int64"
      ]
     },
     "execution_count": 25,
     "metadata": {},
     "output_type": "execute_result"
    }
   ],
   "source": [
    "titanic[\"Parch\"].value_counts() # содержит информацию о количестве детей/родителей у пассажира на борту судна"
   ]
  },
  {
   "cell_type": "code",
   "execution_count": 26,
   "metadata": {},
   "outputs": [
    {
     "data": {
      "text/plain": [
       "0    608\n",
       "1    209\n",
       "2     28\n",
       "4     18\n",
       "3     16\n",
       "8      7\n",
       "5      5\n",
       "Name: SibSp, dtype: int64"
      ]
     },
     "execution_count": 26,
     "metadata": {},
     "output_type": "execute_result"
    }
   ],
   "source": [
    "titanic[\"SibSp\"].value_counts() # содержит информацию о количестве братьев(сестёр)/супругов у пассажира на борту судна"
   ]
  },
  {
   "cell_type": "code",
   "execution_count": 28,
   "metadata": {},
   "outputs": [
    {
     "data": {
      "text/plain": [
       "3    491\n",
       "1    216\n",
       "2    184\n",
       "Name: Pclass, dtype: int64"
      ]
     },
     "execution_count": 28,
     "metadata": {},
     "output_type": "execute_result"
    }
   ],
   "source": [
    "titanic[\"Pclass\"].value_counts() # класс, в котором путешестовал пассажир"
   ]
  },
  {
   "cell_type": "code",
   "execution_count": 32,
   "metadata": {},
   "outputs": [
    {
     "data": {
      "text/plain": [
       "3    0.551066\n",
       "1    0.242424\n",
       "2    0.206510\n",
       "Name: Pclass, dtype: float64"
      ]
     },
     "execution_count": 32,
     "metadata": {},
     "output_type": "execute_result"
    }
   ],
   "source": [
    "titanic[\"Pclass\"].value_counts(normalize = True)\n",
    "# большая часть плыла третьим классом; остальные примерно пополам в первом или втором"
   ]
  },
  {
   "cell_type": "code",
   "execution_count": 37,
   "metadata": {},
   "outputs": [
    {
     "data": {
      "text/plain": [
       "866"
      ]
     },
     "execution_count": 37,
     "metadata": {},
     "output_type": "execute_result"
    }
   ],
   "source": [
    "# Оцениваем содержание NaN в датафрейме\n",
    "titanic.isnull().sum().sum()"
   ]
  },
  {
   "cell_type": "code",
   "execution_count": 43,
   "metadata": {},
   "outputs": [
    {
     "data": {
      "text/plain": [
       "PassengerId      0\n",
       "Survived         0\n",
       "Pclass           0\n",
       "Name             0\n",
       "Sex              0\n",
       "Age            177\n",
       "SibSp            0\n",
       "Parch            0\n",
       "Ticket           0\n",
       "Fare             0\n",
       "Cabin          687\n",
       "Embarked         2\n",
       "dtype: int64"
      ]
     },
     "execution_count": 43,
     "metadata": {},
     "output_type": "execute_result"
    }
   ],
   "source": [
    "titanic.isnull().sum() # большая часть NaN приходится на переменную Cabin, поэтому в дальнейшем анализе её также можно исключить."
   ]
  },
  {
   "cell_type": "code",
   "execution_count": 81,
   "metadata": {},
   "outputs": [],
   "source": [
    "titanic_mode = titanic.drop(columns = [\"PassengerId\", \"Ticket\", \"Name\", \"Cabin\"]) # удаляем переменные, которые не имеют рспределения и характеризуют индивидуальный объект\n",
    "titanic_mode[\"dummy_sex\"] = titanic_mode[\"Sex\"].map({\"female\":0, \"male\":1})"
   ]
  },
  {
   "cell_type": "code",
   "execution_count": 82,
   "metadata": {},
   "outputs": [
    {
     "data": {
      "text/plain": [
       "array([[<AxesSubplot:title={'center':'Survived'}>,\n",
       "        <AxesSubplot:title={'center':'Pclass'}>,\n",
       "        <AxesSubplot:title={'center':'Age'}>],\n",
       "       [<AxesSubplot:title={'center':'SibSp'}>,\n",
       "        <AxesSubplot:title={'center':'Parch'}>,\n",
       "        <AxesSubplot:title={'center':'Fare'}>],\n",
       "       [<AxesSubplot:title={'center':'dummy_sex'}>, <AxesSubplot:>,\n",
       "        <AxesSubplot:>]], dtype=object)"
      ]
     },
     "execution_count": 82,
     "metadata": {},
     "output_type": "execute_result"
    },
    {
     "data": {
      "image/png": "[encoded data removed]",
      "text/plain": [
       "<Figure size 576x720 with 9 Axes>"
      ]
     },
     "metadata": {
      "needs_background": "light"
     },
     "output_type": "display_data"
    }
   ],
   "source": [
    "titanic_mode.hist(figsize = (8,10))"
   ]
  },
  {
   "cell_type": "code",
   "execution_count": 77,
   "metadata": {
    "scrolled": true
   },
   "outputs": [
    {
     "data": {
      "text/plain": [
       "<AxesSubplot:>"
      ]
     },
     "execution_count": 77,
     "metadata": {},
     "output_type": "execute_result"
    },
    {
     "data": {
      "image/png": "[encoded data removed]",
      "text/plain": [
       "<Figure size 432x288 with 1 Axes>"
      ]
     },
     "metadata": {
      "needs_background": "light"
     },
     "output_type": "display_data"
    }
   ],
   "source": [
    "titanic_mode[\"Sex\"].hist()"
   ]
  },
  {
   "cell_type": "code",
   "execution_count": 88,
   "metadata": {},
   "outputs": [
    {
     "data": {
      "text/html": [
       "<style  type=\"text/css\" >\n",
       "#T_311b1d53_7ec2_11eb_8bbd_244bfeba8b03row0_col0,#T_311b1d53_7ec2_11eb_8bbd_244bfeba8b03row1_col1,#T_311b1d53_7ec2_11eb_8bbd_244bfeba8b03row2_col2,#T_311b1d53_7ec2_11eb_8bbd_244bfeba8b03row3_col3,#T_311b1d53_7ec2_11eb_8bbd_244bfeba8b03row4_col4,#T_311b1d53_7ec2_11eb_8bbd_244bfeba8b03row5_col5,#T_311b1d53_7ec2_11eb_8bbd_244bfeba8b03row6_col6{\n",
       "            background-color:  #b40426;\n",
       "            color:  #f1f1f1;\n",
       "        }#T_311b1d53_7ec2_11eb_8bbd_244bfeba8b03row0_col1{\n",
       "            background-color:  #6485ec;\n",
       "            color:  #000000;\n",
       "        }#T_311b1d53_7ec2_11eb_8bbd_244bfeba8b03row0_col2,#T_311b1d53_7ec2_11eb_8bbd_244bfeba8b03row1_col4{\n",
       "            background-color:  #80a3fa;\n",
       "            color:  #000000;\n",
       "        }#T_311b1d53_7ec2_11eb_8bbd_244bfeba8b03row0_col3{\n",
       "            background-color:  #7ea1fa;\n",
       "            color:  #000000;\n",
       "        }#T_311b1d53_7ec2_11eb_8bbd_244bfeba8b03row0_col4{\n",
       "            background-color:  #92b4fe;\n",
       "            color:  #000000;\n",
       "        }#T_311b1d53_7ec2_11eb_8bbd_244bfeba8b03row0_col5{\n",
       "            background-color:  #e2dad5;\n",
       "            color:  #000000;\n",
       "        }#T_311b1d53_7ec2_11eb_8bbd_244bfeba8b03row0_col6,#T_311b1d53_7ec2_11eb_8bbd_244bfeba8b03row1_col2,#T_311b1d53_7ec2_11eb_8bbd_244bfeba8b03row1_col5,#T_311b1d53_7ec2_11eb_8bbd_244bfeba8b03row2_col3,#T_311b1d53_7ec2_11eb_8bbd_244bfeba8b03row5_col1,#T_311b1d53_7ec2_11eb_8bbd_244bfeba8b03row6_col0,#T_311b1d53_7ec2_11eb_8bbd_244bfeba8b03row6_col4{\n",
       "            background-color:  #3b4cc0;\n",
       "            color:  #f1f1f1;\n",
       "        }#T_311b1d53_7ec2_11eb_8bbd_244bfeba8b03row1_col0,#T_311b1d53_7ec2_11eb_8bbd_244bfeba8b03row4_col2{\n",
       "            background-color:  #6384eb;\n",
       "            color:  #000000;\n",
       "        }#T_311b1d53_7ec2_11eb_8bbd_244bfeba8b03row1_col3{\n",
       "            background-color:  #9ebeff;\n",
       "            color:  #000000;\n",
       "        }#T_311b1d53_7ec2_11eb_8bbd_244bfeba8b03row1_col6,#T_311b1d53_7ec2_11eb_8bbd_244bfeba8b03row6_col1{\n",
       "            background-color:  #ccd9ed;\n",
       "            color:  #000000;\n",
       "        }#T_311b1d53_7ec2_11eb_8bbd_244bfeba8b03row2_col0{\n",
       "            background-color:  #9fbfff;\n",
       "            color:  #000000;\n",
       "        }#T_311b1d53_7ec2_11eb_8bbd_244bfeba8b03row2_col1{\n",
       "            background-color:  #5e7de7;\n",
       "            color:  #000000;\n",
       "        }#T_311b1d53_7ec2_11eb_8bbd_244bfeba8b03row2_col4,#T_311b1d53_7ec2_11eb_8bbd_244bfeba8b03row3_col2{\n",
       "            background-color:  #485fd1;\n",
       "            color:  #f1f1f1;\n",
       "        }#T_311b1d53_7ec2_11eb_8bbd_244bfeba8b03row2_col5{\n",
       "            background-color:  #c5d6f2;\n",
       "            color:  #000000;\n",
       "        }#T_311b1d53_7ec2_11eb_8bbd_244bfeba8b03row2_col6{\n",
       "            background-color:  #c4d5f3;\n",
       "            color:  #000000;\n",
       "        }#T_311b1d53_7ec2_11eb_8bbd_244bfeba8b03row3_col0{\n",
       "            background-color:  #a9c6fd;\n",
       "            color:  #000000;\n",
       "        }#T_311b1d53_7ec2_11eb_8bbd_244bfeba8b03row3_col1{\n",
       "            background-color:  #c3d5f4;\n",
       "            color:  #000000;\n",
       "        }#T_311b1d53_7ec2_11eb_8bbd_244bfeba8b03row3_col4{\n",
       "            background-color:  #e4d9d2;\n",
       "            color:  #000000;\n",
       "        }#T_311b1d53_7ec2_11eb_8bbd_244bfeba8b03row3_col5{\n",
       "            background-color:  #d2dbe8;\n",
       "            color:  #000000;\n",
       "        }#T_311b1d53_7ec2_11eb_8bbd_244bfeba8b03row3_col6{\n",
       "            background-color:  #97b8ff;\n",
       "            color:  #000000;\n",
       "        }#T_311b1d53_7ec2_11eb_8bbd_244bfeba8b03row4_col0{\n",
       "            background-color:  #c1d4f4;\n",
       "            color:  #000000;\n",
       "        }#T_311b1d53_7ec2_11eb_8bbd_244bfeba8b03row4_col1{\n",
       "            background-color:  #b5cdfa;\n",
       "            color:  #000000;\n",
       "        }#T_311b1d53_7ec2_11eb_8bbd_244bfeba8b03row4_col3{\n",
       "            background-color:  #ead5c9;\n",
       "            color:  #000000;\n",
       "        }#T_311b1d53_7ec2_11eb_8bbd_244bfeba8b03row4_col5{\n",
       "            background-color:  #dbdcde;\n",
       "            color:  #000000;\n",
       "        }#T_311b1d53_7ec2_11eb_8bbd_244bfeba8b03row4_col6{\n",
       "            background-color:  #799cf8;\n",
       "            color:  #000000;\n",
       "        }#T_311b1d53_7ec2_11eb_8bbd_244bfeba8b03row5_col0{\n",
       "            background-color:  #e1dad6;\n",
       "            color:  #000000;\n",
       "        }#T_311b1d53_7ec2_11eb_8bbd_244bfeba8b03row5_col2,#T_311b1d53_7ec2_11eb_8bbd_244bfeba8b03row6_col2{\n",
       "            background-color:  #abc8fd;\n",
       "            color:  #000000;\n",
       "        }#T_311b1d53_7ec2_11eb_8bbd_244bfeba8b03row5_col3{\n",
       "            background-color:  #b2ccfb;\n",
       "            color:  #000000;\n",
       "        }#T_311b1d53_7ec2_11eb_8bbd_244bfeba8b03row5_col4{\n",
       "            background-color:  #b6cefa;\n",
       "            color:  #000000;\n",
       "        }#T_311b1d53_7ec2_11eb_8bbd_244bfeba8b03row5_col6{\n",
       "            background-color:  #86a9fc;\n",
       "            color:  #000000;\n",
       "        }#T_311b1d53_7ec2_11eb_8bbd_244bfeba8b03row6_col3{\n",
       "            background-color:  #688aef;\n",
       "            color:  #000000;\n",
       "        }#T_311b1d53_7ec2_11eb_8bbd_244bfeba8b03row6_col5{\n",
       "            background-color:  #88abfd;\n",
       "            color:  #000000;\n",
       "        }</style><table id=\"T_311b1d53_7ec2_11eb_8bbd_244bfeba8b03\" ><thead>    <tr>        <th class=\"blank level0\" ></th>        <th class=\"col_heading level0 col0\" >Survived</th>        <th class=\"col_heading level0 col1\" >Pclass</th>        <th class=\"col_heading level0 col2\" >Age</th>        <th class=\"col_heading level0 col3\" >SibSp</th>        <th class=\"col_heading level0 col4\" >Parch</th>        <th class=\"col_heading level0 col5\" >Fare</th>        <th class=\"col_heading level0 col6\" >dummy_sex</th>    </tr></thead><tbody>\n",
       "                <tr>\n",
       "                        <th id=\"T_311b1d53_7ec2_11eb_8bbd_244bfeba8b03level0_row0\" class=\"row_heading level0 row0\" >Survived</th>\n",
       "                        <td id=\"T_311b1d53_7ec2_11eb_8bbd_244bfeba8b03row0_col0\" class=\"data row0 col0\" >1.000000</td>\n",
       "                        <td id=\"T_311b1d53_7ec2_11eb_8bbd_244bfeba8b03row0_col1\" class=\"data row0 col1\" >-0.338481</td>\n",
       "                        <td id=\"T_311b1d53_7ec2_11eb_8bbd_244bfeba8b03row0_col2\" class=\"data row0 col2\" >-0.077221</td>\n",
       "                        <td id=\"T_311b1d53_7ec2_11eb_8bbd_244bfeba8b03row0_col3\" class=\"data row0 col3\" >-0.035322</td>\n",
       "                        <td id=\"T_311b1d53_7ec2_11eb_8bbd_244bfeba8b03row0_col4\" class=\"data row0 col4\" >0.081629</td>\n",
       "                        <td id=\"T_311b1d53_7ec2_11eb_8bbd_244bfeba8b03row0_col5\" class=\"data row0 col5\" >0.257307</td>\n",
       "                        <td id=\"T_311b1d53_7ec2_11eb_8bbd_244bfeba8b03row0_col6\" class=\"data row0 col6\" >-0.543351</td>\n",
       "            </tr>\n",
       "            <tr>\n",
       "                        <th id=\"T_311b1d53_7ec2_11eb_8bbd_244bfeba8b03level0_row1\" class=\"row_heading level0 row1\" >Pclass</th>\n",
       "                        <td id=\"T_311b1d53_7ec2_11eb_8bbd_244bfeba8b03row1_col0\" class=\"data row1 col0\" >-0.338481</td>\n",
       "                        <td id=\"T_311b1d53_7ec2_11eb_8bbd_244bfeba8b03row1_col1\" class=\"data row1 col1\" >1.000000</td>\n",
       "                        <td id=\"T_311b1d53_7ec2_11eb_8bbd_244bfeba8b03row1_col2\" class=\"data row1 col2\" >-0.369226</td>\n",
       "                        <td id=\"T_311b1d53_7ec2_11eb_8bbd_244bfeba8b03row1_col3\" class=\"data row1 col3\" >0.083081</td>\n",
       "                        <td id=\"T_311b1d53_7ec2_11eb_8bbd_244bfeba8b03row1_col4\" class=\"data row1 col4\" >0.018443</td>\n",
       "                        <td id=\"T_311b1d53_7ec2_11eb_8bbd_244bfeba8b03row1_col5\" class=\"data row1 col5\" >-0.549500</td>\n",
       "                        <td id=\"T_311b1d53_7ec2_11eb_8bbd_244bfeba8b03row1_col6\" class=\"data row1 col6\" >0.131900</td>\n",
       "            </tr>\n",
       "            <tr>\n",
       "                        <th id=\"T_311b1d53_7ec2_11eb_8bbd_244bfeba8b03level0_row2\" class=\"row_heading level0 row2\" >Age</th>\n",
       "                        <td id=\"T_311b1d53_7ec2_11eb_8bbd_244bfeba8b03row2_col0\" class=\"data row2 col0\" >-0.077221</td>\n",
       "                        <td id=\"T_311b1d53_7ec2_11eb_8bbd_244bfeba8b03row2_col1\" class=\"data row2 col1\" >-0.369226</td>\n",
       "                        <td id=\"T_311b1d53_7ec2_11eb_8bbd_244bfeba8b03row2_col2\" class=\"data row2 col2\" >1.000000</td>\n",
       "                        <td id=\"T_311b1d53_7ec2_11eb_8bbd_244bfeba8b03row2_col3\" class=\"data row2 col3\" >-0.308247</td>\n",
       "                        <td id=\"T_311b1d53_7ec2_11eb_8bbd_244bfeba8b03row2_col4\" class=\"data row2 col4\" >-0.189119</td>\n",
       "                        <td id=\"T_311b1d53_7ec2_11eb_8bbd_244bfeba8b03row2_col5\" class=\"data row2 col5\" >0.096067</td>\n",
       "                        <td id=\"T_311b1d53_7ec2_11eb_8bbd_244bfeba8b03row2_col6\" class=\"data row2 col6\" >0.093254</td>\n",
       "            </tr>\n",
       "            <tr>\n",
       "                        <th id=\"T_311b1d53_7ec2_11eb_8bbd_244bfeba8b03level0_row3\" class=\"row_heading level0 row3\" >SibSp</th>\n",
       "                        <td id=\"T_311b1d53_7ec2_11eb_8bbd_244bfeba8b03row3_col0\" class=\"data row3 col0\" >-0.035322</td>\n",
       "                        <td id=\"T_311b1d53_7ec2_11eb_8bbd_244bfeba8b03row3_col1\" class=\"data row3 col1\" >0.083081</td>\n",
       "                        <td id=\"T_311b1d53_7ec2_11eb_8bbd_244bfeba8b03row3_col2\" class=\"data row3 col2\" >-0.308247</td>\n",
       "                        <td id=\"T_311b1d53_7ec2_11eb_8bbd_244bfeba8b03row3_col3\" class=\"data row3 col3\" >1.000000</td>\n",
       "                        <td id=\"T_311b1d53_7ec2_11eb_8bbd_244bfeba8b03row3_col4\" class=\"data row3 col4\" >0.414838</td>\n",
       "                        <td id=\"T_311b1d53_7ec2_11eb_8bbd_244bfeba8b03row3_col5\" class=\"data row3 col5\" >0.159651</td>\n",
       "                        <td id=\"T_311b1d53_7ec2_11eb_8bbd_244bfeba8b03row3_col6\" class=\"data row3 col6\" >-0.114631</td>\n",
       "            </tr>\n",
       "            <tr>\n",
       "                        <th id=\"T_311b1d53_7ec2_11eb_8bbd_244bfeba8b03level0_row4\" class=\"row_heading level0 row4\" >Parch</th>\n",
       "                        <td id=\"T_311b1d53_7ec2_11eb_8bbd_244bfeba8b03row4_col0\" class=\"data row4 col0\" >0.081629</td>\n",
       "                        <td id=\"T_311b1d53_7ec2_11eb_8bbd_244bfeba8b03row4_col1\" class=\"data row4 col1\" >0.018443</td>\n",
       "                        <td id=\"T_311b1d53_7ec2_11eb_8bbd_244bfeba8b03row4_col2\" class=\"data row4 col2\" >-0.189119</td>\n",
       "                        <td id=\"T_311b1d53_7ec2_11eb_8bbd_244bfeba8b03row4_col3\" class=\"data row4 col3\" >0.414838</td>\n",
       "                        <td id=\"T_311b1d53_7ec2_11eb_8bbd_244bfeba8b03row4_col4\" class=\"data row4 col4\" >1.000000</td>\n",
       "                        <td id=\"T_311b1d53_7ec2_11eb_8bbd_244bfeba8b03row4_col5\" class=\"data row4 col5\" >0.216225</td>\n",
       "                        <td id=\"T_311b1d53_7ec2_11eb_8bbd_244bfeba8b03row4_col6\" class=\"data row4 col6\" >-0.245489</td>\n",
       "            </tr>\n",
       "            <tr>\n",
       "                        <th id=\"T_311b1d53_7ec2_11eb_8bbd_244bfeba8b03level0_row5\" class=\"row_heading level0 row5\" >Fare</th>\n",
       "                        <td id=\"T_311b1d53_7ec2_11eb_8bbd_244bfeba8b03row5_col0\" class=\"data row5 col0\" >0.257307</td>\n",
       "                        <td id=\"T_311b1d53_7ec2_11eb_8bbd_244bfeba8b03row5_col1\" class=\"data row5 col1\" >-0.549500</td>\n",
       "                        <td id=\"T_311b1d53_7ec2_11eb_8bbd_244bfeba8b03row5_col2\" class=\"data row5 col2\" >0.096067</td>\n",
       "                        <td id=\"T_311b1d53_7ec2_11eb_8bbd_244bfeba8b03row5_col3\" class=\"data row5 col3\" >0.159651</td>\n",
       "                        <td id=\"T_311b1d53_7ec2_11eb_8bbd_244bfeba8b03row5_col4\" class=\"data row5 col4\" >0.216225</td>\n",
       "                        <td id=\"T_311b1d53_7ec2_11eb_8bbd_244bfeba8b03row5_col5\" class=\"data row5 col5\" >1.000000</td>\n",
       "                        <td id=\"T_311b1d53_7ec2_11eb_8bbd_244bfeba8b03row5_col6\" class=\"data row5 col6\" >-0.182333</td>\n",
       "            </tr>\n",
       "            <tr>\n",
       "                        <th id=\"T_311b1d53_7ec2_11eb_8bbd_244bfeba8b03level0_row6\" class=\"row_heading level0 row6\" >dummy_sex</th>\n",
       "                        <td id=\"T_311b1d53_7ec2_11eb_8bbd_244bfeba8b03row6_col0\" class=\"data row6 col0\" >-0.543351</td>\n",
       "                        <td id=\"T_311b1d53_7ec2_11eb_8bbd_244bfeba8b03row6_col1\" class=\"data row6 col1\" >0.131900</td>\n",
       "                        <td id=\"T_311b1d53_7ec2_11eb_8bbd_244bfeba8b03row6_col2\" class=\"data row6 col2\" >0.093254</td>\n",
       "                        <td id=\"T_311b1d53_7ec2_11eb_8bbd_244bfeba8b03row6_col3\" class=\"data row6 col3\" >-0.114631</td>\n",
       "                        <td id=\"T_311b1d53_7ec2_11eb_8bbd_244bfeba8b03row6_col4\" class=\"data row6 col4\" >-0.245489</td>\n",
       "                        <td id=\"T_311b1d53_7ec2_11eb_8bbd_244bfeba8b03row6_col5\" class=\"data row6 col5\" >-0.182333</td>\n",
       "                        <td id=\"T_311b1d53_7ec2_11eb_8bbd_244bfeba8b03row6_col6\" class=\"data row6 col6\" >1.000000</td>\n",
       "            </tr>\n",
       "    </tbody></table>"
      ],
      "text/plain": [
       "<pandas.io.formats.style.Styler at 0x2676cbc86a0>"
      ]
     },
     "execution_count": 88,
     "metadata": {},
     "output_type": "execute_result"
    }
   ],
   "source": [
    "titanic_mode.corr().style.background_gradient(cmap = \"coolwarm\") # на графике корреляций видно, что переменная Survived более всего коррелирует с переменными Pclass и Sex. Переменная Age иммеет наибольшую корреляцию с Pclass и SibSp. Также наблюдается корреляция между Fare (транспортные расходы) и Pclass. Коэфициент корреляции для переменных SibSp и Parch тажке выше 0.4"
   ]
  },
  {
   "cell_type": "code",
   "execution_count": 89,
   "metadata": {},
   "outputs": [
    {
     "data": {
      "text/html": [
       "<div>\n",
       "<style scoped>\n",
       "    .dataframe tbody tr th:only-of-type {\n",
       "        vertical-align: middle;\n",
       "    }\n",
       "\n",
       "    .dataframe tbody tr th {\n",
       "        vertical-align: top;\n",
       "    }\n",
       "\n",
       "    .dataframe thead th {\n",
       "        text-align: right;\n",
       "    }\n",
       "</style>\n",
       "<table border=\"1\" class=\"dataframe\">\n",
       "  <thead>\n",
       "    <tr style=\"text-align: right;\">\n",
       "      <th></th>\n",
       "      <th></th>\n",
       "      <th>Age</th>\n",
       "      <th>Survived</th>\n",
       "    </tr>\n",
       "    <tr>\n",
       "      <th>Sex</th>\n",
       "      <th>Pclass</th>\n",
       "      <th></th>\n",
       "      <th></th>\n",
       "    </tr>\n",
       "  </thead>\n",
       "  <tbody>\n",
       "    <tr>\n",
       "      <th rowspan=\"3\" valign=\"top\">female</th>\n",
       "      <th>1</th>\n",
       "      <td>34.611765</td>\n",
       "      <td>0.968085</td>\n",
       "    </tr>\n",
       "    <tr>\n",
       "      <th>2</th>\n",
       "      <td>28.722973</td>\n",
       "      <td>0.921053</td>\n",
       "    </tr>\n",
       "    <tr>\n",
       "      <th>3</th>\n",
       "      <td>21.750000</td>\n",
       "      <td>0.500000</td>\n",
       "    </tr>\n",
       "    <tr>\n",
       "      <th rowspan=\"3\" valign=\"top\">male</th>\n",
       "      <th>1</th>\n",
       "      <td>41.281386</td>\n",
       "      <td>0.368852</td>\n",
       "    </tr>\n",
       "    <tr>\n",
       "      <th>2</th>\n",
       "      <td>30.740707</td>\n",
       "      <td>0.157407</td>\n",
       "    </tr>\n",
       "    <tr>\n",
       "      <th>3</th>\n",
       "      <td>26.507589</td>\n",
       "      <td>0.135447</td>\n",
       "    </tr>\n",
       "  </tbody>\n",
       "</table>\n",
       "</div>"
      ],
      "text/plain": [
       "                     Age  Survived\n",
       "Sex    Pclass                     \n",
       "female 1       34.611765  0.968085\n",
       "       2       28.722973  0.921053\n",
       "       3       21.750000  0.500000\n",
       "male   1       41.281386  0.368852\n",
       "       2       30.740707  0.157407\n",
       "       3       26.507589  0.135447"
      ]
     },
     "execution_count": 89,
     "metadata": {},
     "output_type": "execute_result"
    }
   ],
   "source": [
    "titanic_mode.pivot_table(values = [\"Survived\", \"Age\"], index=[\"Sex\", \"Pclass\"], aggfunc = \"mean\") # Из ьалицы видно, что чем выше был класс пассажира тем в среднем он был старше и более вероятно выживал. Также заметно, что женщин выжило значительно больше чем мужчин."
   ]
  },
  {
   "cell_type": "code",
   "execution_count": null,
   "metadata": {},
   "outputs": [],
   "source": []
  },
  {
   "cell_type": "code",
   "execution_count": null,
   "metadata": {},
   "outputs": [],
   "source": []
  },
  {
   "cell_type": "code",
   "execution_count": null,
   "metadata": {},
   "outputs": [],
   "source": []
  },
  {
   "cell_type": "code",
   "execution_count": null,
   "metadata": {},
   "outputs": [],
   "source": []
  },
  {
   "cell_type": "code",
   "execution_count": null,
   "metadata": {},
   "outputs": [],
   "source": []
  },
  {
   "cell_type": "code",
   "execution_count": null,
   "metadata": {},
   "outputs": [],
   "source": []
  },
  {
   "cell_type": "code",
   "execution_count": null,
   "metadata": {},
   "outputs": [],
   "source": []
  },
  {
   "cell_type": "code",
   "execution_count": null,
   "metadata": {},
   "outputs": [],
   "source": []
  },
  {
   "cell_type": "code",
   "execution_count": null,
   "metadata": {},
   "outputs": [],
   "source": []
  },
  {
   "cell_type": "code",
   "execution_count": null,
   "metadata": {},
   "outputs": [],
   "source": []
  },
  {
   "cell_type": "code",
   "execution_count": null,
   "metadata": {},
   "outputs": [],
   "source": []
  },
  {
   "cell_type": "code",
   "execution_count": null,
   "metadata": {},
   "outputs": [],
   "source": []
  },
  {
   "cell_type": "code",
   "execution_count": null,
   "metadata": {},
   "outputs": [],
   "source": []
  },
  {
   "cell_type": "code",
   "execution_count": null,
   "metadata": {},
   "outputs": [],
   "source": []
  },
  {
   "cell_type": "code",
   "execution_count": null,
   "metadata": {},
   "outputs": [],
   "source": []
  },
  {
   "cell_type": "code",
   "execution_count": null,
   "metadata": {},
   "outputs": [],
   "source": []
  },
  {
   "cell_type": "code",
   "execution_count": null,
   "metadata": {},
   "outputs": [],
   "source": []
  },
  {
   "cell_type": "code",
   "execution_count": null,
   "metadata": {},
   "outputs": [],
   "source": []
  },
  {
   "cell_type": "code",
   "execution_count": null,
   "metadata": {},
   "outputs": [],
   "source": []
  },
  {
   "cell_type": "code",
   "execution_count": null,
   "metadata": {},
   "outputs": [],
   "source": []
  },
  {
   "cell_type": "code",
   "execution_count": null,
   "metadata": {},
   "outputs": [],
   "source": []
  },
  {
   "cell_type": "code",
   "execution_count": null,
   "metadata": {},
   "outputs": [],
   "source": []
  },
  {
   "cell_type": "code",
   "execution_count": null,
   "metadata": {},
   "outputs": [],
   "source": []
  },
  {
   "cell_type": "code",
   "execution_count": null,
   "metadata": {},
   "outputs": [],
   "source": []
  },
  {
   "cell_type": "code",
   "execution_count": null,
   "metadata": {},
   "outputs": [],
   "source": []
  },
  {
   "cell_type": "code",
   "execution_count": null,
   "metadata": {},
   "outputs": [],
   "source": []
  },
  {
   "cell_type": "code",
   "execution_count": null,
   "metadata": {},
   "outputs": [],
   "source": []
  },
  {
   "cell_type": "code",
   "execution_count": null,
   "metadata": {},
   "outputs": [],
   "source": []
  },
  {
   "cell_type": "code",
   "execution_count": null,
   "metadata": {},
   "outputs": [],
   "source": []
  },
  {
   "cell_type": "code",
   "execution_count": null,
   "metadata": {},
   "outputs": [],
   "source": []
  },
  {
   "cell_type": "code",
   "execution_count": null,
   "metadata": {},
   "outputs": [],
   "source": []
  },
  {
   "cell_type": "code",
   "execution_count": null,
   "metadata": {},
   "outputs": [],
   "source": []
  },
  {
   "cell_type": "code",
   "execution_count": null,
   "metadata": {},
   "outputs": [],
   "source": []
  },
  {
   "cell_type": "code",
   "execution_count": null,
   "metadata": {},
   "outputs": [],
   "source": []
  },
  {
   "cell_type": "code",
   "execution_count": null,
   "metadata": {},
   "outputs": [],
   "source": []
  },
  {
   "cell_type": "code",
   "execution_count": null,
   "metadata": {},
   "outputs": [],
   "source": []
  },
  {
   "cell_type": "code",
   "execution_count": null,
   "metadata": {},
   "outputs": [],
   "source": []
  },
  {
   "cell_type": "code",
   "execution_count": null,
   "metadata": {},
   "outputs": [],
   "source": []
  },
  {
   "cell_type": "code",
   "execution_count": null,
   "metadata": {},
   "outputs": [],
   "source": []
  },
  {
   "cell_type": "code",
   "execution_count": null,
   "metadata": {},
   "outputs": [],
   "source": []
  },
  {
   "cell_type": "code",
   "execution_count": null,
   "metadata": {},
   "outputs": [],
   "source": []
  },
  {
   "cell_type": "code",
   "execution_count": null,
   "metadata": {},
   "outputs": [],
   "source": []
  },
  {
   "cell_type": "code",
   "execution_count": null,
   "metadata": {},
   "outputs": [],
   "source": []
  },
  {
   "cell_type": "code",
   "execution_count": null,
   "metadata": {},
   "outputs": [],
   "source": []
  },
  {
   "cell_type": "code",
   "execution_count": null,
   "metadata": {},
   "outputs": [],
   "source": []
  },
  {
   "cell_type": "code",
   "execution_count": null,
   "metadata": {},
   "outputs": [],
   "source": []
  },
  {
   "cell_type": "code",
   "execution_count": null,
   "metadata": {},
   "outputs": [],
   "source": []
  },
  {
   "cell_type": "code",
   "execution_count": null,
   "metadata": {},
   "outputs": [],
   "source": []
  },
  {
   "cell_type": "code",
   "execution_count": null,
   "metadata": {},
   "outputs": [],
   "source": []
  },
  {
   "cell_type": "code",
   "execution_count": null,
   "metadata": {},
   "outputs": [],
   "source": []
  },
  {
   "cell_type": "code",
   "execution_count": null,
   "metadata": {},
   "outputs": [],
   "source": []
  },
  {
   "cell_type": "code",
   "execution_count": null,
   "metadata": {},
   "outputs": [],
   "source": []
  },
  {
   "cell_type": "code",
   "execution_count": null,
   "metadata": {},
   "outputs": [],
   "source": []
  },
  {
   "cell_type": "code",
   "execution_count": null,
   "metadata": {},
   "outputs": [],
   "source": []
  },
  {
   "cell_type": "code",
   "execution_count": null,
   "metadata": {},
   "outputs": [],
   "source": []
  },
  {
   "cell_type": "code",
   "execution_count": null,
   "metadata": {},
   "outputs": [],
   "source": []
  },
  {
   "cell_type": "code",
   "execution_count": null,
   "metadata": {},
   "outputs": [],
   "source": []
  },
  {
   "cell_type": "code",
   "execution_count": null,
   "metadata": {},
   "outputs": [],
   "source": []
  },
  {
   "cell_type": "code",
   "execution_count": null,
   "metadata": {},
   "outputs": [],
   "source": []
  },
  {
   "cell_type": "code",
   "execution_count": null,
   "metadata": {},
   "outputs": [],
   "source": []
  },
  {
   "cell_type": "code",
   "execution_count": null,
   "metadata": {},
   "outputs": [],
   "source": []
  },
  {
   "cell_type": "code",
   "execution_count": null,
   "metadata": {},
   "outputs": [],
   "source": []
  }
 ],
 "metadata": {
  "kernelspec": {
   "display_name": "Python 3",
   "language": "python",
   "name": "python3"
  },
  "language_info": {
   "codemirror_mode": {
    "name": "ipython",
    "version": 3
   },
   "file_extension": ".py",
   "mimetype": "text/x-python",
   "name": "python",
   "nbconvert_exporter": "python",
   "pygments_lexer": "ipython3",
   "version": "3.8.5"
  }
 },
 "nbformat": 4,
 "nbformat_minor": 4
}
